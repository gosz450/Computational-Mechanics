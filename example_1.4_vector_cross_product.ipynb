{
 "cells": [
  {
   "cell_type": "markdown",
   "id": "5a68d9b2-fd9f-4a55-8819-872c2d475bb3",
   "metadata": {},
   "source": [
    "# Example 1.4 -- Vector cross product using the permutation symbol"
   ]
  },
  {
   "cell_type": "code",
   "execution_count": 1,
   "id": "825d6099-991a-44ce-a9b4-675238f796fe",
   "metadata": {},
   "outputs": [],
   "source": [
    "import sympy as sp"
   ]
  },
  {
   "cell_type": "code",
   "execution_count": 2,
   "id": "05e14395-7ef9-4489-baca-074e396ecdf5",
   "metadata": {},
   "outputs": [],
   "source": [
    "# Define symbols for vector components\n",
    "a1, a2, a3, b1, b2, b3 = sp.symbols('a1 a2 a3 b1 b2 b3')"
   ]
  },
  {
   "cell_type": "code",
   "execution_count": 3,
   "id": "dc2f8e49-4382-45e3-aa32-c5672e3db9c8",
   "metadata": {},
   "outputs": [],
   "source": [
    "# Define vectors\n",
    "a = sp.Matrix([a1, a2, a3])\n",
    "b = sp.Matrix([b1, b2, b3])"
   ]
  },
  {
   "cell_type": "code",
   "execution_count": 4,
   "id": "67a40a02-cc67-4ea0-a8f8-42f20b6d455d",
   "metadata": {},
   "outputs": [],
   "source": [
    "# Define the permutation symbol\n",
    "eps = sp.MutableDenseNDimArray.zeros(3, 3, 3)\n",
    "eps[0,1,2] = eps[1,2,0] = eps[2,0,1] = 1\n",
    "eps[0,2,1] = eps[1,0,2] = eps[2,1,0] = -1"
   ]
  },
  {
   "cell_type": "code",
   "execution_count": 6,
   "id": "179f3803-c3ef-4257-afcb-123a682b90b3",
   "metadata": {},
   "outputs": [],
   "source": [
    "# Compute cross product using _ijk a_j b_k\n",
    "c = sp.Matrix([sum(eps[i,j,k]*a[j]*b[k] for j in range(3) for k in range(3))\n",
    "for i in range(3)])"
   ]
  },
  {
   "cell_type": "code",
   "execution_count": 7,
   "id": "5c109f59-8dd7-4eeb-8042-6d47abccf036",
   "metadata": {},
   "outputs": [
    {
     "data": {
      "text/latex": [
       "$\\displaystyle \\left[\\begin{matrix}a_{2} b_{3} - a_{3} b_{2}\\\\- a_{1} b_{3} + a_{3} b_{1}\\\\a_{1} b_{2} - a_{2} b_{1}\\end{matrix}\\right]$"
      ],
      "text/plain": [
       "Matrix([\n",
       "[ a2*b3 - a3*b2],\n",
       "[-a1*b3 + a3*b1],\n",
       "[ a1*b2 - a2*b1]])"
      ]
     },
     "execution_count": 7,
     "metadata": {},
     "output_type": "execute_result"
    }
   ],
   "source": [
    "c"
   ]
  },
  {
   "cell_type": "code",
   "execution_count": 8,
   "id": "180e00c3-177b-4037-8807-63be3f03054b",
   "metadata": {},
   "outputs": [],
   "source": [
    "# Compare with SymPy’s built-in cross product\n",
    "cross_builtin = a.cross(b)"
   ]
  },
  {
   "cell_type": "code",
   "execution_count": 9,
   "id": "1e4d7398-22c2-4c93-a474-0ef4b0a36e13",
   "metadata": {},
   "outputs": [
    {
     "name": "stdout",
     "output_type": "stream",
     "text": [
      "Indicial form result:\n",
      "⎡a₂⋅b₃ - a₃⋅b₂ ⎤\n",
      "⎢              ⎥\n",
      "⎢-a₁⋅b₃ + a₃⋅b₁⎥\n",
      "⎢              ⎥\n",
      "⎣a₁⋅b₂ - a₂⋅b₁ ⎦\n",
      "\n",
      "Built-in cross product:\n",
      "⎡a₂⋅b₃ - a₃⋅b₂ ⎤\n",
      "⎢              ⎥\n",
      "⎢-a₁⋅b₃ + a₃⋅b₁⎥\n",
      "⎢              ⎥\n",
      "⎣a₁⋅b₂ - a₂⋅b₁ ⎦\n",
      "\n",
      "Are the two forms equivalent? True\n"
     ]
    }
   ],
   "source": [
    "print(\"Indicial form result:\")\n",
    "sp.pprint(c)\n",
    "print(\"\\nBuilt-in cross product:\")\n",
    "sp.pprint(cross_builtin)\n",
    "# Confirm equality\n",
    "print(\"\\nAre the two forms equivalent?\", sp.simplify(c - cross_builtin) == sp.zeros\n",
    "(3,1))"
   ]
  },
  {
   "cell_type": "code",
   "execution_count": null,
   "id": "5da056c9-4c9d-4fb7-ba4f-90911a4b04af",
   "metadata": {},
   "outputs": [],
   "source": []
  }
 ],
 "metadata": {
  "kernelspec": {
   "display_name": "Python (my_venv)",
   "language": "python",
   "name": "my_venv"
  },
  "language_info": {
   "codemirror_mode": {
    "name": "ipython",
    "version": 3
   },
   "file_extension": ".py",
   "mimetype": "text/x-python",
   "name": "python",
   "nbconvert_exporter": "python",
   "pygments_lexer": "ipython3",
   "version": "3.9.6"
  }
 },
 "nbformat": 4,
 "nbformat_minor": 5
}
