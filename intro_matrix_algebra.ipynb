{
 "cells": [
  {
   "cell_type": "markdown",
   "id": "8ed148fc",
   "metadata": {
    "id": "8ed148fc"
   },
   "source": [
    "# Introduction to Matrix Algebra"
   ]
  },
  {
   "cell_type": "markdown",
   "id": "03f116fd",
   "metadata": {
    "id": "03f116fd"
   },
   "source": [
    "## Import packages"
   ]
  },
  {
   "cell_type": "code",
   "execution_count": 1,
   "id": "1c182b28",
   "metadata": {
    "executionInfo": {
     "elapsed": 28,
     "status": "ok",
     "timestamp": 1757437217040,
     "user": {
      "displayName": "Michael Gosz",
      "userId": "15131384550112882994"
     },
     "user_tz": 300
    },
    "id": "1c182b28"
   },
   "outputs": [],
   "source": [
    "import numpy as np\n",
    "import sympy as sp"
   ]
  },
  {
   "cell_type": "markdown",
   "id": "a3fe0739",
   "metadata": {
    "id": "a3fe0739"
   },
   "source": [
    "### Problem 1.\n",
    "\n",
    "Letting  \n",
    "\n",
    "\\begin{equation}\n",
    "\\mathbf{K} =\n",
    "\\begin{bmatrix}\n",
    "  1 & -1 & 0 \\\\\n",
    "  -1 & 2 & -1 \\\\\n",
    "  0 & -1 & 1\n",
    "\\end{bmatrix},\n",
    "\\quad\n",
    "\\mathbf{B} =\n",
    "\\begin{bmatrix}\n",
    "  2 & 3 & 4 \\\\\n",
    "  0 & 1 & 5\n",
    "\\end{bmatrix},\n",
    "\\quad\n",
    "\\mathbf{d} =\n",
    "\\begin{bmatrix}\n",
    "  2 \\\\\n",
    "  -2 \\\\\n",
    "  1\n",
    "\\end{bmatrix}\n",
    "\\end{equation}\n",
    "\n",
    "perform the following matrix multiplications:\n",
    "\n",
    "\\begin{equation}\n",
    "\\text{(a)}\\quad \\mathbf{K}\\mathbf{d}\n",
    "\\qquad\n",
    "\\text{(b)}\\quad \\mathbf{B}\\mathbf{d}\n",
    "\\end{equation}\n",
    "\n",
    "\\begin{equation}\n",
    "\\text{(c)}\\quad \\mathbf{B}^T\\mathbf{B}\n",
    "\\qquad\n",
    "\\text{(d)}\\quad \\mathbf{K}\\mathbf{B}\n",
    "\\end{equation}"
   ]
  },
  {
   "cell_type": "code",
   "execution_count": 2,
   "id": "36a444d3",
   "metadata": {
    "executionInfo": {
     "elapsed": 5,
     "status": "ok",
     "timestamp": 1757437221249,
     "user": {
      "displayName": "Michael Gosz",
      "userId": "15131384550112882994"
     },
     "user_tz": 300
    },
    "id": "36a444d3"
   },
   "outputs": [],
   "source": [
    "K = np.array([[1,-1,0],[-1,2,-1],[0,-1,1]])"
   ]
  },
  {
   "cell_type": "code",
   "execution_count": 3,
   "id": "7d66c5e0",
   "metadata": {
    "colab": {
     "base_uri": "https://localhost:8080/"
    },
    "executionInfo": {
     "elapsed": 7,
     "status": "ok",
     "timestamp": 1757437226788,
     "user": {
      "displayName": "Michael Gosz",
      "userId": "15131384550112882994"
     },
     "user_tz": 300
    },
    "id": "7d66c5e0",
    "outputId": "28fd47da-ba22-42ad-c933-0f01a0c1b54b"
   },
   "outputs": [
    {
     "data": {
      "text/plain": [
       "array([[ 1, -1,  0],\n",
       "       [-1,  2, -1],\n",
       "       [ 0, -1,  1]])"
      ]
     },
     "execution_count": 3,
     "metadata": {},
     "output_type": "execute_result"
    }
   ],
   "source": [
    "K"
   ]
  },
  {
   "cell_type": "code",
   "execution_count": 4,
   "id": "4cadf979",
   "metadata": {
    "executionInfo": {
     "elapsed": 9,
     "status": "ok",
     "timestamp": 1757437227502,
     "user": {
      "displayName": "Michael Gosz",
      "userId": "15131384550112882994"
     },
     "user_tz": 300
    },
    "id": "4cadf979"
   },
   "outputs": [],
   "source": [
    "B = np.array([[2,3,4],[0,1,5]])"
   ]
  },
  {
   "cell_type": "code",
   "execution_count": 5,
   "id": "7d987560",
   "metadata": {
    "executionInfo": {
     "elapsed": 4,
     "status": "ok",
     "timestamp": 1757437228111,
     "user": {
      "displayName": "Michael Gosz",
      "userId": "15131384550112882994"
     },
     "user_tz": 300
    },
    "id": "7d987560"
   },
   "outputs": [],
   "source": [
    "d = np.array([[2],[-2],[1]])"
   ]
  },
  {
   "cell_type": "code",
   "execution_count": 6,
   "id": "75741a55",
   "metadata": {
    "colab": {
     "base_uri": "https://localhost:8080/"
    },
    "executionInfo": {
     "elapsed": 10,
     "status": "ok",
     "timestamp": 1757437229102,
     "user": {
      "displayName": "Michael Gosz",
      "userId": "15131384550112882994"
     },
     "user_tz": 300
    },
    "id": "75741a55",
    "outputId": "b34af9c4-3eee-4561-9af9-23cc034d3337"
   },
   "outputs": [
    {
     "data": {
      "text/plain": [
       "((3, 3), (2, 3), (3, 1))"
      ]
     },
     "execution_count": 6,
     "metadata": {},
     "output_type": "execute_result"
    }
   ],
   "source": [
    "np.shape(K),np.shape(B),np.shape(d)"
   ]
  },
  {
   "cell_type": "code",
   "execution_count": 7,
   "id": "8438e982",
   "metadata": {
    "colab": {
     "base_uri": "https://localhost:8080/"
    },
    "executionInfo": {
     "elapsed": 3,
     "status": "ok",
     "timestamp": 1757437231661,
     "user": {
      "displayName": "Michael Gosz",
      "userId": "15131384550112882994"
     },
     "user_tz": 300
    },
    "id": "8438e982",
    "outputId": "95f242a7-e8d5-49eb-8b66-bcedfe335965"
   },
   "outputs": [
    {
     "data": {
      "text/plain": [
       "array([[ 4],\n",
       "       [-7],\n",
       "       [ 3]])"
      ]
     },
     "execution_count": 7,
     "metadata": {},
     "output_type": "execute_result"
    }
   ],
   "source": [
    "np.dot(K,d)"
   ]
  },
  {
   "cell_type": "code",
   "execution_count": 8,
   "id": "b09b422c",
   "metadata": {
    "colab": {
     "base_uri": "https://localhost:8080/"
    },
    "executionInfo": {
     "elapsed": 8,
     "status": "ok",
     "timestamp": 1757437233439,
     "user": {
      "displayName": "Michael Gosz",
      "userId": "15131384550112882994"
     },
     "user_tz": 300
    },
    "id": "b09b422c",
    "outputId": "b97aee3f-1e4e-4f0c-f26b-1ec02cb06300"
   },
   "outputs": [
    {
     "data": {
      "text/plain": [
       "array([[2],\n",
       "       [3]])"
      ]
     },
     "execution_count": 8,
     "metadata": {},
     "output_type": "execute_result"
    }
   ],
   "source": [
    "np.dot(B,d)"
   ]
  },
  {
   "cell_type": "code",
   "execution_count": 9,
   "id": "4711d62b",
   "metadata": {
    "colab": {
     "base_uri": "https://localhost:8080/"
    },
    "executionInfo": {
     "elapsed": 2,
     "status": "ok",
     "timestamp": 1757437234886,
     "user": {
      "displayName": "Michael Gosz",
      "userId": "15131384550112882994"
     },
     "user_tz": 300
    },
    "id": "4711d62b",
    "outputId": "c0375026-8431-4787-b074-79241724b882"
   },
   "outputs": [
    {
     "data": {
      "text/plain": [
       "array([[ 4,  6,  8],\n",
       "       [ 6, 10, 17],\n",
       "       [ 8, 17, 41]])"
      ]
     },
     "execution_count": 9,
     "metadata": {},
     "output_type": "execute_result"
    }
   ],
   "source": [
    "np.dot(B.T,B)"
   ]
  },
  {
   "cell_type": "code",
   "execution_count": 10,
   "id": "9edf507f",
   "metadata": {
    "colab": {
     "base_uri": "https://localhost:8080/",
     "height": 144
    },
    "executionInfo": {
     "elapsed": 8,
     "status": "error",
     "timestamp": 1757437236161,
     "user": {
      "displayName": "Michael Gosz",
      "userId": "15131384550112882994"
     },
     "user_tz": 300
    },
    "id": "9edf507f",
    "outputId": "51d0e236-365a-4ddf-f4df-f45adcb8d646"
   },
   "outputs": [
    {
     "ename": "ValueError",
     "evalue": "shapes (3,3) and (2,3) not aligned: 3 (dim 1) != 2 (dim 0)",
     "output_type": "error",
     "traceback": [
      "\u001b[0;31m---------------------------------------------------------------------------\u001b[0m",
      "\u001b[0;31mValueError\u001b[0m                                Traceback (most recent call last)",
      "Cell \u001b[0;32mIn[10], line 1\u001b[0m\n\u001b[0;32m----> 1\u001b[0m \u001b[43mnp\u001b[49m\u001b[38;5;241;43m.\u001b[39;49m\u001b[43mdot\u001b[49m\u001b[43m(\u001b[49m\u001b[43mK\u001b[49m\u001b[43m,\u001b[49m\u001b[43mB\u001b[49m\u001b[43m)\u001b[49m\n",
      "File \u001b[0;32m<__array_function__ internals>:180\u001b[0m, in \u001b[0;36mdot\u001b[0;34m(*args, **kwargs)\u001b[0m\n",
      "\u001b[0;31mValueError\u001b[0m: shapes (3,3) and (2,3) not aligned: 3 (dim 1) != 2 (dim 0)"
     ]
    }
   ],
   "source": [
    "np.dot(K,B)"
   ]
  },
  {
   "cell_type": "markdown",
   "id": "12c3dea2",
   "metadata": {
    "id": "12c3dea2"
   },
   "source": [
    "## Problem 2\n",
    "\n",
    "Let\n",
    "\n",
    "\\begin{equation}\n",
    "\\mathbf{A} =\n",
    "\\begin{bmatrix}\n",
    "  1 & 2 & 0 \\\\\n",
    "  2 & 4 & 2 \\\\\n",
    "  1 & 4 & -1\n",
    "\\end{bmatrix},\n",
    "\\qquad\n",
    "\\mathbf{B} =\n",
    "\\begin{bmatrix}\n",
    "  1 & -1 \\\\\n",
    "  -1 & 3\n",
    "\\end{bmatrix}\n",
    "\\end{equation}\n",
    "\n",
    "Determine the following:\n",
    "\n",
    "\\begin{equation}\n",
    "\\text{(a)} \\quad \\det(\\mathbf{A})\n",
    "\\qquad\n",
    "\\text{(b)} \\quad \\det(\\mathbf{B})\n",
    "\\end{equation}\n",
    "\n",
    "\\begin{equation}\n",
    "\\text{(c)} \\quad \\mathbf{A}^{-1}\n",
    "\\qquad\n",
    "\\text{(d)} \\quad \\mathbf{B}^{-1}\n",
    "\\end{equation}"
   ]
  },
  {
   "cell_type": "code",
   "execution_count": 11,
   "id": "f3456b7a",
   "metadata": {
    "executionInfo": {
     "elapsed": 1,
     "status": "ok",
     "timestamp": 1757437240905,
     "user": {
      "displayName": "Michael Gosz",
      "userId": "15131384550112882994"
     },
     "user_tz": 300
    },
    "id": "f3456b7a"
   },
   "outputs": [],
   "source": [
    "A = np.array([[1,2,0],[2,4,2],[1,4,-1]])"
   ]
  },
  {
   "cell_type": "code",
   "execution_count": 12,
   "id": "de529b0c",
   "metadata": {
    "executionInfo": {
     "elapsed": 2,
     "status": "ok",
     "timestamp": 1757437246144,
     "user": {
      "displayName": "Michael Gosz",
      "userId": "15131384550112882994"
     },
     "user_tz": 300
    },
    "id": "de529b0c"
   },
   "outputs": [],
   "source": [
    "B = np.array([[1,-1],[-1,3]])"
   ]
  },
  {
   "cell_type": "code",
   "execution_count": 13,
   "id": "1387ae9a",
   "metadata": {
    "colab": {
     "base_uri": "https://localhost:8080/"
    },
    "executionInfo": {
     "elapsed": 3,
     "status": "ok",
     "timestamp": 1757437246721,
     "user": {
      "displayName": "Michael Gosz",
      "userId": "15131384550112882994"
     },
     "user_tz": 300
    },
    "id": "1387ae9a",
    "outputId": "b3b14829-08dd-4e3e-a183-b5babd8ba79d"
   },
   "outputs": [
    {
     "data": {
      "text/plain": [
       "-4.0"
      ]
     },
     "execution_count": 13,
     "metadata": {},
     "output_type": "execute_result"
    }
   ],
   "source": [
    "np.linalg.det(A)"
   ]
  },
  {
   "cell_type": "code",
   "execution_count": 14,
   "id": "61dc9008",
   "metadata": {
    "colab": {
     "base_uri": "https://localhost:8080/"
    },
    "executionInfo": {
     "elapsed": 9,
     "status": "ok",
     "timestamp": 1757437247476,
     "user": {
      "displayName": "Michael Gosz",
      "userId": "15131384550112882994"
     },
     "user_tz": 300
    },
    "id": "61dc9008",
    "outputId": "45aa00df-8d6b-403a-c6ac-3443c9f145b7"
   },
   "outputs": [
    {
     "data": {
      "text/plain": [
       "2.0"
      ]
     },
     "execution_count": 14,
     "metadata": {},
     "output_type": "execute_result"
    }
   ],
   "source": [
    "np.linalg.det(B)"
   ]
  },
  {
   "cell_type": "code",
   "execution_count": 15,
   "id": "f60bd00d",
   "metadata": {
    "executionInfo": {
     "elapsed": 1,
     "status": "ok",
     "timestamp": 1757437248409,
     "user": {
      "displayName": "Michael Gosz",
      "userId": "15131384550112882994"
     },
     "user_tz": 300
    },
    "id": "f60bd00d"
   },
   "outputs": [],
   "source": [
    "C=np.linalg.inv(A)"
   ]
  },
  {
   "cell_type": "code",
   "execution_count": 16,
   "id": "6a3413a5",
   "metadata": {
    "colab": {
     "base_uri": "https://localhost:8080/"
    },
    "executionInfo": {
     "elapsed": 2,
     "status": "ok",
     "timestamp": 1757437249636,
     "user": {
      "displayName": "Michael Gosz",
      "userId": "15131384550112882994"
     },
     "user_tz": 300
    },
    "id": "6a3413a5",
    "outputId": "60925808-e1f3-452a-906d-798b76a2312c"
   },
   "outputs": [
    {
     "data": {
      "text/plain": [
       "array([[ 3.  , -0.5 , -1.  ],\n",
       "       [-1.  ,  0.25,  0.5 ],\n",
       "       [-1.  ,  0.5 , -0.  ]])"
      ]
     },
     "execution_count": 16,
     "metadata": {},
     "output_type": "execute_result"
    }
   ],
   "source": [
    "C"
   ]
  },
  {
   "cell_type": "code",
   "execution_count": 17,
   "id": "dac85e62",
   "metadata": {
    "colab": {
     "base_uri": "https://localhost:8080/"
    },
    "executionInfo": {
     "elapsed": 7,
     "status": "ok",
     "timestamp": 1757437251472,
     "user": {
      "displayName": "Michael Gosz",
      "userId": "15131384550112882994"
     },
     "user_tz": 300
    },
    "id": "dac85e62",
    "outputId": "56eaed4f-1fd7-42b3-c98e-7476cc2dbde6"
   },
   "outputs": [
    {
     "data": {
      "text/plain": [
       "array([[1., 0., 0.],\n",
       "       [0., 1., 0.],\n",
       "       [0., 0., 1.]])"
      ]
     },
     "execution_count": 17,
     "metadata": {},
     "output_type": "execute_result"
    }
   ],
   "source": [
    "np.dot(C,A)"
   ]
  },
  {
   "cell_type": "code",
   "execution_count": 18,
   "id": "81a43b2f",
   "metadata": {
    "colab": {
     "base_uri": "https://localhost:8080/"
    },
    "executionInfo": {
     "elapsed": 19,
     "status": "ok",
     "timestamp": 1757437253251,
     "user": {
      "displayName": "Michael Gosz",
      "userId": "15131384550112882994"
     },
     "user_tz": 300
    },
    "id": "81a43b2f",
    "outputId": "1de3ddc2-bb01-4581-a349-3b965ddb6dd3"
   },
   "outputs": [
    {
     "data": {
      "text/plain": [
       "array([[1.5, 0.5],\n",
       "       [0.5, 0.5]])"
      ]
     },
     "execution_count": 18,
     "metadata": {},
     "output_type": "execute_result"
    }
   ],
   "source": [
    "np.linalg.inv(B)"
   ]
  },
  {
   "cell_type": "markdown",
   "id": "fc42aba1",
   "metadata": {
    "id": "fc42aba1"
   },
   "source": [
    "## Problem 3\n",
    "\n",
    "Let\n",
    "\\begin{equation}\n",
    "\\mathbf{A}=\\left[%\n",
    "\\begin{array}{rrr}\n",
    "  x \\,\\,& 0 \\,\\,& 3x^3 \\\\\n",
    "  3 \\,\\,& x^2+1 \\,\\,& x^4 \\\\\n",
    "  2x \\,\\,& 6x^3-x \\,\\,& 1 \\\\\n",
    "\\end{array}%\n",
    "\\right]\\nonumber\n",
    "\\end{equation}\n",
    "Evaluate $\\int_{-1}^{1}\\mathbf{A}\\,\\mathrm{d} x$.\n"
   ]
  },
  {
   "cell_type": "code",
   "execution_count": 19,
   "id": "e1d67dc6",
   "metadata": {
    "executionInfo": {
     "elapsed": 41,
     "status": "ok",
     "timestamp": 1757437345816,
     "user": {
      "displayName": "Michael Gosz",
      "userId": "15131384550112882994"
     },
     "user_tz": 300
    },
    "id": "e1d67dc6"
   },
   "outputs": [],
   "source": [
    "x = sp.symbols('x')"
   ]
  },
  {
   "cell_type": "code",
   "execution_count": 20,
   "id": "460ebd35",
   "metadata": {
    "colab": {
     "base_uri": "https://localhost:8080/",
     "height": 39
    },
    "executionInfo": {
     "elapsed": 3,
     "status": "ok",
     "timestamp": 1757437348466,
     "user": {
      "displayName": "Michael Gosz",
      "userId": "15131384550112882994"
     },
     "user_tz": 300
    },
    "id": "460ebd35",
    "outputId": "ef517d9e-2bc2-4c63-ce3e-8b2b3a33699d"
   },
   "outputs": [
    {
     "data": {
      "text/latex": [
       "$\\displaystyle x$"
      ],
      "text/plain": [
       "x"
      ]
     },
     "execution_count": 20,
     "metadata": {},
     "output_type": "execute_result"
    }
   ],
   "source": [
    "x"
   ]
  },
  {
   "cell_type": "code",
   "execution_count": 21,
   "id": "34dd9e6c",
   "metadata": {
    "executionInfo": {
     "elapsed": 5,
     "status": "ok",
     "timestamp": 1757437349757,
     "user": {
      "displayName": "Michael Gosz",
      "userId": "15131384550112882994"
     },
     "user_tz": 300
    },
    "id": "34dd9e6c"
   },
   "outputs": [],
   "source": [
    "A = sp.Matrix([[x,0,3*x**3],[3,x**2+1,x**4],[2*x,6*x**3-x,1]])"
   ]
  },
  {
   "cell_type": "code",
   "execution_count": 22,
   "id": "ae5880c5",
   "metadata": {
    "colab": {
     "base_uri": "https://localhost:8080/",
     "height": 78
    },
    "executionInfo": {
     "elapsed": 2,
     "status": "ok",
     "timestamp": 1757437350889,
     "user": {
      "displayName": "Michael Gosz",
      "userId": "15131384550112882994"
     },
     "user_tz": 300
    },
    "id": "ae5880c5",
    "outputId": "c0deae71-d53e-419e-9797-ca39f1692ccd"
   },
   "outputs": [
    {
     "data": {
      "text/latex": [
       "$\\displaystyle \\left[\\begin{matrix}x & 0 & 3 x^{3}\\\\3 & x^{2} + 1 & x^{4}\\\\2 x & 6 x^{3} - x & 1\\end{matrix}\\right]$"
      ],
      "text/plain": [
       "Matrix([\n",
       "[  x,          0, 3*x**3],\n",
       "[  3,   x**2 + 1,   x**4],\n",
       "[2*x, 6*x**3 - x,      1]])"
      ]
     },
     "execution_count": 22,
     "metadata": {},
     "output_type": "execute_result"
    }
   ],
   "source": [
    "A"
   ]
  },
  {
   "cell_type": "code",
   "execution_count": 23,
   "id": "38256efd",
   "metadata": {
    "colab": {
     "base_uri": "https://localhost:8080/",
     "height": 78
    },
    "executionInfo": {
     "elapsed": 97,
     "status": "ok",
     "timestamp": 1757437351949,
     "user": {
      "displayName": "Michael Gosz",
      "userId": "15131384550112882994"
     },
     "user_tz": 300
    },
    "id": "38256efd",
    "outputId": "2080b60c-821a-4e5f-e05a-86d8ab1dead6"
   },
   "outputs": [
    {
     "data": {
      "text/latex": [
       "$\\displaystyle \\left[\\begin{matrix}0 & 0 & 0\\\\6 & \\frac{8}{3} & \\frac{2}{5}\\\\0 & 0 & 2\\end{matrix}\\right]$"
      ],
      "text/plain": [
       "Matrix([\n",
       "[0,   0,   0],\n",
       "[6, 8/3, 2/5],\n",
       "[0,   0,   2]])"
      ]
     },
     "execution_count": 23,
     "metadata": {},
     "output_type": "execute_result"
    }
   ],
   "source": [
    "sp.integrate(A,(x,-1,1))"
   ]
  },
  {
   "cell_type": "code",
   "execution_count": null,
   "id": "f2fc3684-1ef3-46ee-86f5-23020e56fd39",
   "metadata": {},
   "outputs": [],
   "source": []
  }
 ],
 "metadata": {
  "colab": {
   "provenance": [],
   "toc_visible": true
  },
  "kernelspec": {
   "display_name": "Python (my_venv)",
   "language": "python",
   "name": "my_venv"
  },
  "language_info": {
   "codemirror_mode": {
    "name": "ipython",
    "version": 3
   },
   "file_extension": ".py",
   "mimetype": "text/x-python",
   "name": "python",
   "nbconvert_exporter": "python",
   "pygments_lexer": "ipython3",
   "version": "3.9.6"
  }
 },
 "nbformat": 4,
 "nbformat_minor": 5
}
