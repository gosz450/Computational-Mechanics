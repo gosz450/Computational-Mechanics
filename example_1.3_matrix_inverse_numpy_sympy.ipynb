{
 "cells": [
  {
   "cell_type": "markdown",
   "id": "7e16f192-98bf-453b-8be6-ad79b683d207",
   "metadata": {},
   "source": [
    "# Example 1.3 -- Matrix inverse using NumPy and SymPy"
   ]
  },
  {
   "cell_type": "code",
   "execution_count": 1,
   "id": "e594b6ea-b55d-4ce2-825f-1e2556b23c14",
   "metadata": {},
   "outputs": [],
   "source": [
    "import numpy as np\n",
    "import sympy as sp"
   ]
  },
  {
   "cell_type": "code",
   "execution_count": 2,
   "id": "6c7a6f04-6e19-4e6d-9ad9-2b073f487148",
   "metadata": {},
   "outputs": [],
   "source": [
    "# Define the matrix A\n",
    "A = np.array([[2, 1, 3],\n",
    "[0, 1, 4],\n",
    "[1, 0, 2]], dtype=float)"
   ]
  },
  {
   "cell_type": "code",
   "execution_count": 3,
   "id": "bbeddfe1-e3b3-4d8c-89eb-9a1ffc60dc14",
   "metadata": {},
   "outputs": [
    {
     "name": "stdout",
     "output_type": "stream",
     "text": [
      "Numerical inverse (NumPy):\n",
      "[[ 0.4 -0.4  0.2]\n",
      " [ 0.8  0.2 -1.6]\n",
      " [-0.2  0.2  0.4]]\n",
      "\n",
      "Product A * A_inv =\n",
      "[[ 1.00000000e+00 -5.55111512e-17 -1.11022302e-16]\n",
      " [ 0.00000000e+00  1.00000000e+00  0.00000000e+00]\n",
      " [ 0.00000000e+00  0.00000000e+00  1.00000000e+00]]\n"
     ]
    }
   ],
   "source": [
    "# --- Numerical verification using NumPy ---\n",
    "A_inv = np.linalg.inv(A)\n",
    "I_check = A @ A_inv\n",
    "print(\"Numerical inverse (NumPy):\")\n",
    "print(A_inv)\n",
    "print(\"\\nProduct A * A_inv =\")\n",
    "print(I_check)"
   ]
  },
  {
   "cell_type": "code",
   "execution_count": null,
   "id": "aeb1add8-2aa3-42f6-b0e2-025cc3ca7815",
   "metadata": {},
   "outputs": [],
   "source": [
    "# --- Symbolic verification using SymPy ---\n",
    "A_sym = sp.Matrix([[2, 1, 3],\n",
    "[0, 1, 4],\n",
    "[1, 0, 2]])\n",
    "A_inv_sym = A_sym.inv()\n",
    "I_sym = A_sym * A_inv_sym\n",
    "sp.pprint(A_inv_sym)\n",
    "sp.pprint(I_sym)"
   ]
  }
 ],
 "metadata": {
  "kernelspec": {
   "display_name": "Python (my_venv)",
   "language": "python",
   "name": "my_venv"
  },
  "language_info": {
   "codemirror_mode": {
    "name": "ipython",
    "version": 3
   },
   "file_extension": ".py",
   "mimetype": "text/x-python",
   "name": "python",
   "nbconvert_exporter": "python",
   "pygments_lexer": "ipython3",
   "version": "3.9.6"
  }
 },
 "nbformat": 4,
 "nbformat_minor": 5
}
