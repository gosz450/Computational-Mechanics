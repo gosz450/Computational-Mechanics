{
 "cells": [
  {
   "cell_type": "markdown",
   "id": "34572617",
   "metadata": {},
   "source": [
    "# Worked Example: 1D Steady-State Heat Conduction using Gauss–Seidel"
   ]
  },
  {
   "cell_type": "markdown",
   "id": "578dbb2d",
   "metadata": {},
   "source": [
    "\n",
    "We apply the **Gauss–Seidel method** to solve the steady-state heat conduction equation:\n",
    "\n",
    "\\[\n",
    "\\frac{d^2 T}{dx^2} = 0, \\qquad 0 < x < L\n",
    "\\]\n",
    "\n",
    "with Dirichlet boundary conditions:\n",
    "\n",
    "\\[\n",
    "T(0) = T_0, \\qquad T(L) = T_L\n",
    "\\]\n",
    "\n",
    "We discretize the rod into \\( N \\) internal nodes, leading to the second-order finite difference equation at node \\( i \\):\n",
    "\n",
    "\\[\n",
    "- T_{i-1} + 2T_i - T_{i+1} = 0, \\qquad i = 1, 2, \\dots, N\n",
    "\\]\n",
    "\n",
    "This results in a linear system \\( \\mathbf{A} \\mathbf{T} = \\mathbf{d} \\), where:\n",
    "\n",
    "\\[\n",
    "\\begin{aligned}\n",
    "a_{ii} &= 2, \\\\\n",
    "a_{i,i-1} &= a_{i,i+1} = -1, \\\\\n",
    "d_i &= 0 \\quad \\text{(modified to incorporate boundary conditions)}.\n",
    "\\end{aligned}\n",
    "\\]\n"
   ]
  },
  {
   "cell_type": "markdown",
   "id": "904f1d81",
   "metadata": {},
   "source": [
    "\n",
    "## Problem Parameters\n",
    "\n",
    "We consider:\n",
    "- \\( L = 1 \\)\n",
    "- \\( T_0 = 100^\\circ C \\)\n",
    "- \\( T_L = 200^\\circ C \\)\n",
    "- \\( N = 5 \\) internal nodes\n"
   ]
  },
  {
   "cell_type": "markdown",
   "id": "724cbddf",
   "metadata": {},
   "source": [
    "## Python Implementation of Gauss–Seidel Method"
   ]
  },
  {
   "cell_type": "code",
   "execution_count": null,
   "id": "dd0981ed",
   "metadata": {},
   "outputs": [],
   "source": [
    "\n",
    "import numpy as np\n",
    "\n",
    "def gauss_seidel(A, b, tol=1e-10, max_iter=1000):\n",
    "    n = len(b)\n",
    "    x = np.zeros(n)\n",
    "    for k in range(max_iter):\n",
    "        x_old = x.copy()\n",
    "        for i in range(n):\n",
    "            sigma = sum(A[i][j] * x[j] for j in range(n) if j != i)\n",
    "            x[i] = (b[i] - sigma) / A[i][i]\n",
    "        if np.linalg.norm(x - x_old, ord=np.inf) < tol:\n",
    "            break\n",
    "    return x\n"
   ]
  },
  {
   "cell_type": "markdown",
   "id": "ef977a9b",
   "metadata": {},
   "source": [
    "## Applying the Method"
   ]
  },
  {
   "cell_type": "code",
   "execution_count": null,
   "id": "fda654e8",
   "metadata": {},
   "outputs": [],
   "source": [
    "\n",
    "# Define problem parameters\n",
    "N = 5\n",
    "T0 = 100\n",
    "TL = 200\n",
    "\n",
    "# Create matrix A (tridiagonal)\n",
    "A = np.zeros((N, N))\n",
    "np.fill_diagonal(A, 2)\n",
    "np.fill_diagonal(A[1:], -1)\n",
    "np.fill_diagonal(A[:,1:], -1)\n",
    "\n",
    "# Right-hand side vector d\n",
    "d = np.zeros(N)\n",
    "d[0] += T0\n",
    "d[-1] += TL\n",
    "\n",
    "# Solve using Gauss–Seidel\n",
    "T_internal = gauss_seidel(A, d)\n",
    "\n",
    "# Construct full temperature vector\n",
    "T_full = np.concatenate(([T0], T_internal, [TL]))\n",
    "x = np.linspace(0, 1, N + 2)\n",
    "\n",
    "# Plot result\n",
    "import matplotlib.pyplot as plt\n",
    "\n",
    "plt.plot(x, T_full, marker='o')\n",
    "plt.xlabel('x')\n",
    "plt.ylabel('Temperature (°C)')\n",
    "plt.title('1D Heat Conduction: Gauss–Seidel Solution')\n",
    "plt.grid(True)\n",
    "plt.show()\n"
   ]
  },
  {
   "cell_type": "markdown",
   "id": "0a1b0da1",
   "metadata": {},
   "source": [
    "\n",
    "## Remarks\n",
    "\n",
    "- Gauss–Seidel is easy to implement and effective for structured systems with good diagonal dominance.\n",
    "- Convergence can be accelerated using relaxation techniques such as **Successive Over-Relaxation (SOR)**.\n",
    "- While useful for small to moderately sized problems, performance may degrade for ill-conditioned or highly asymmetric systems.\n",
    "\n",
    "The result here is a linear temperature profile between \\( T_0 \\) and \\( T_L \\), which matches the expected analytical solution.\n"
   ]
  }
 ],
 "metadata": {},
 "nbformat": 4,
 "nbformat_minor": 5
}