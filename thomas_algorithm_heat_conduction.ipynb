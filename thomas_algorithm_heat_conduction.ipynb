{
 "cells": [
  {
   "cell_type": "markdown",
   "id": "aa7ee8e4",
   "metadata": {},
   "source": [
    "# Worked Example: Thomas Algorithm for 1D Heat Conduction"
   ]
  },
  {
   "cell_type": "markdown",
   "id": "64aa29b9",
   "metadata": {},
   "source": [
    "\n",
    "In this notebook, we implement the **Thomas Algorithm** (also known as the **TDMA** – Tridiagonal Matrix Algorithm)\n",
    "to solve a system of linear equations arising from the discretization of the 1D steady-state heat conduction equation.\n",
    "\n",
    "We assume:\n",
    "- Constant thermal conductivity\n",
    "- No internal heat generation\n",
    "- Dirichlet boundary conditions\n",
    "\n",
    "The governing differential equation is:\n",
    "\n",
    "$$\n",
    "\\frac{d^2 T}{dx^2} = 0\n",
    "$$\n",
    "\n",
    "This is discretized using second-order finite differences on a uniform grid.\n"
   ]
  },
  {
   "cell_type": "markdown",
   "id": "06e0cc2b",
   "metadata": {},
   "source": [
    "\n",
    "## Finite Difference Discretization\n",
    "\n",
    "Suppose we have a rod of length \\( L \\) divided into \\( N+2 \\) nodes (including boundaries), so there are \\( N \\) internal nodes.\n",
    "The discretized equation at internal node \\( i \\) becomes:\n",
    "\n",
    "$$\n",
    "- T_{i-1} + 2T_i - T_{i+1} = 0 \\quad \\text{for } i = 1, 2, ..., N\n",
    "$$\n",
    "\n",
    "This results in a tridiagonal system:\n",
    "\n",
    "$$\n",
    "a_i T_{i-1} + b_i T_i + c_i T_{i+1} = d_i\n",
    "$$\n",
    "\n",
    "where:\n",
    "- \\( a_i = -1 \\)\n",
    "- \\( b_i = 2 \\)\n",
    "- \\( c_i = -1 \\)\n",
    "- \\( d_i = 0 \\) (modified for boundary conditions)\n"
   ]
  },
  {
   "cell_type": "markdown",
   "id": "b9b3929f",
   "metadata": {},
   "source": [
    "\n",
    "## Thomas Algorithm\n",
    "\n",
    "The Thomas algorithm is an efficient way to solve tridiagonal systems. It consists of two steps:\n",
    "\n",
    "1. **Forward Elimination**:\n",
    "   Modify the coefficients to eliminate the lower diagonal.\n",
    "2. **Backward Substitution**:\n",
    "   Solve for the solution vector from the last equation to the first.\n",
    "\n",
    "This reduces the computational complexity to \\( \\mathcal{O}(N) \\).\n"
   ]
  },
  {
   "cell_type": "code",
   "execution_count": null,
   "id": "7e44afbb",
   "metadata": {},
   "outputs": [],
   "source": [
    "\n",
    "import numpy as np\n",
    "import matplotlib.pyplot as plt\n",
    "\n",
    "def thomas_algorithm(a, b, c, d):\n",
    "    n = len(d)\n",
    "    # Forward elimination\n",
    "    for i in range(1, n):\n",
    "        w = a[i] / b[i - 1]\n",
    "        b[i] = b[i] - w * c[i - 1]\n",
    "        d[i] = d[i] - w * d[i - 1]\n",
    "\n",
    "    # Back substitution\n",
    "    x = np.zeros(n)\n",
    "    x[-1] = d[-1] / b[-1]\n",
    "    for i in reversed(range(n - 1)):\n",
    "        x[i] = (d[i] - c[i] * x[i + 1]) / b[i]\n",
    "\n",
    "    return x\n"
   ]
  },
  {
   "cell_type": "markdown",
   "id": "99a105c5",
   "metadata": {},
   "source": [
    "\n",
    "## Worked Example\n",
    "\n",
    "Let’s solve the 1D heat conduction problem on a rod of length \\( L = 1 \\) with the following boundary conditions:\n",
    "\n",
    "- \\( T(0) = 100^\\circ C \\)\n",
    "- \\( T(1) = 200^\\circ C \\)\n",
    "\n",
    "We divide the domain into \\( N = 5 \\) internal nodes. The system becomes:\n",
    "\n",
    "$$\n",
    "A \\vec{T} = \\vec{d}\n",
    "$$\n",
    "\n",
    "We construct the tridiagonal system accordingly.\n"
   ]
  },
  {
   "cell_type": "code",
   "execution_count": null,
   "id": "2d37e9d8",
   "metadata": {},
   "outputs": [],
   "source": [
    "\n",
    "# Parameters\n",
    "N = 5\n",
    "T0 = 100\n",
    "TL = 200\n",
    "\n",
    "# Tridiagonal coefficients\n",
    "a = np.full(N, -1.0)\n",
    "b = np.full(N, 2.0)\n",
    "c = np.full(N, -1.0)\n",
    "d = np.zeros(N)\n",
    "\n",
    "# Modify RHS for boundary conditions\n",
    "d[0] += T0\n",
    "d[-1] += TL\n",
    "\n",
    "# Solve\n",
    "T_internal = thomas_algorithm(a, b, c, d)\n",
    "\n",
    "# Full temperature vector\n",
    "T_full = np.concatenate(([T0], T_internal, [TL]))\n",
    "x = np.linspace(0, 1, N + 2)\n",
    "\n",
    "# Plot\n",
    "plt.plot(x, T_full, marker='o')\n",
    "plt.xlabel('x')\n",
    "plt.ylabel('Temperature (°C)')\n",
    "plt.title('1D Steady-State Heat Conduction')\n",
    "plt.grid(True)\n",
    "plt.show()\n"
   ]
  },
  {
   "cell_type": "markdown",
   "id": "8958471d",
   "metadata": {},
   "source": [
    "\n",
    "## Conclusion\n",
    "\n",
    "We used the **Thomas Algorithm** to efficiently solve a system of equations resulting from the finite difference discretization\n",
    "of the 1D steady-state heat conduction equation. The results match the expected linear temperature profile.\n"
   ]
  }
 ],
 "metadata": {},
 "nbformat": 4,
 "nbformat_minor": 5
}