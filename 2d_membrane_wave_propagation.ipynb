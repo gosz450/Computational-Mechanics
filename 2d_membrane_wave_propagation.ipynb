{
 "cells": [
  {
   "cell_type": "markdown",
   "id": "9e632f36",
   "metadata": {},
   "source": [
    "# 💡 Worked Example: 2D Wave Propagation in a Clamped Membrane\n",
    "**Course:** Computational Mechanics / Finite Elements\n",
    "\n",
    "This notebook demonstrates the application of the **explicit finite difference method** to simulate transverse wave propagation in a 2D square membrane that is clamped on all sides. An initial Gaussian pulse at the center represents an impulse (a tap), and the resulting wavefronts reflect elastically from the boundaries.\n",
    "\n",
    "**Key Features:**\n",
    "- 2D explicit time integration\n",
    "- Homogeneous, isotropic material\n",
    "- Clamped boundary conditions\n",
    "- Gaussian initial displacement\n",
    "\n",
    "**Objective:**\n",
    "Solve the scalar wave equation $$ \\frac{\\partial^2 u}{\\partial t^2} = c^2 \\left( \\frac{\\partial^2 u}{\\partial x^2} + \\frac{\\partial^2 u}{\\partial y^2} \\right) $$ with \\( u(x, y, 0) = u_0(x, y) \\) and \\( \\partial u / \\partial t = 0 \\) at \\( t = 0 \\)."
   ]
  },
  {
   "cell_type": "code",
   "execution_count": null,
   "id": "debacf38",
   "metadata": {},
   "outputs": [],
   "source": [
    "import numpy as np\n",
    "import matplotlib.pyplot as plt\n",
    "from matplotlib import animation"
   ]
  },
  {
   "cell_type": "code",
   "execution_count": null,
   "id": "cea601ee",
   "metadata": {},
   "outputs": [],
   "source": [
    "# Simulation parameters\n",
    "L = 1.0      # Length of domain (m)\n",
    "N = 100      # Grid points\n",
    "c = 100.0    # Wave speed (m/s)\n",
    "dx = L / (N - 1)\n",
    "dt = 0.5 * dx / c  # CFL stability\n",
    "T = 0.01\n",
    "n_steps = int(T / dt)\n",
    "\n",
    "# Grid\n",
    "dx2 = dx**2\n",
    "x = np.linspace(0, L, N)\n",
    "y = np.linspace(0, L, N)\n",
    "X, Y = np.meshgrid(x, y)"
   ]
  },
  {
   "cell_type": "code",
   "execution_count": null,
   "id": "418f90c9",
   "metadata": {},
   "outputs": [],
   "source": [
    "# Initial condition: Gaussian pulse at center\n",
    "sigma = 0.05\n",
    "u0 = np.exp(-((X - L/2)**2 + (Y - L/2)**2) / (2 * sigma**2))\n",
    "u1 = u0.copy()\n",
    "u = np.zeros_like(u0)"
   ]
  },
  {
   "cell_type": "code",
   "execution_count": null,
   "id": "a41eb9bb",
   "metadata": {},
   "outputs": [],
   "source": [
    "# Setup plot\n",
    "fig, ax = plt.subplots()\n",
    "cax = ax.imshow(u0, extent=[0, L, 0, L], origin='lower', cmap='RdBu', vmin=-0.1, vmax=0.1)\n",
    "fig.colorbar(cax)\n",
    "ax.set_title(\"2D Wave Propagation\")\n",
    "\n",
    "# Time integration and animation\n",
    "def update(frame):\n",
    "    global u, u0, u1\n",
    "    for i in range(1, N-1):\n",
    "        for j in range(1, N-1):\n",
    "            u[i,j] = (2*u1[i,j] - u0[i,j] +\n",
    "                      (c*dt/dx)**2 * (\n",
    "                          u1[i+1,j] + u1[i-1,j] +\n",
    "                          u1[i,j+1] + u1[i,j-1] - 4*u1[i,j]))\n",
    "    u[0,:] = u[-1,:] = u[:,0] = u[:,-1] = 0.0\n",
    "    u0, u1 = u1, u.copy()\n",
    "    cax.set_array(u)\n",
    "    return [cax]\n",
    "\n",
    "ani = animation.FuncAnimation(fig, update, frames=150, interval=30, blit=True)\n",
    "plt.show()"
   ]
  }
 ],
 "metadata": {
  "kernelspec": {
   "display_name": "Python 3",
   "language": "python",
   "name": "python3"
  }
 },
 "nbformat": 4,
 "nbformat_minor": 5
}