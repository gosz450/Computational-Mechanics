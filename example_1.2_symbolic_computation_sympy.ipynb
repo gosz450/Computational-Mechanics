{
 "cells": [
  {
   "cell_type": "markdown",
   "id": "6114af17-963f-4fca-ae7d-bfb9032799f1",
   "metadata": {},
   "source": [
    "# Example 1.2 -- Symbolic Computation with SymPy"
   ]
  },
  {
   "cell_type": "markdown",
   "id": "1bde421c-ea1a-40e2-b8ba-56b9b7a2674d",
   "metadata": {},
   "source": [
    "### Import SymPy and declare symbols"
   ]
  },
  {
   "cell_type": "code",
   "execution_count": 1,
   "id": "6fb74365-e6a2-478c-b5b6-ab0eadba94ac",
   "metadata": {},
   "outputs": [],
   "source": [
    "from sympy import symbols, Eq, diff, solve, simplify\n",
    "x, y, a, b = symbols('x y a b')"
   ]
  },
  {
   "cell_type": "markdown",
   "id": "f3aee55f-3267-426c-91ed-afcfeba1cdd8",
   "metadata": {},
   "source": [
    "### Define a symbolic function and compute its derivative"
   ]
  },
  {
   "cell_type": "code",
   "execution_count": 2,
   "id": "39f4338e-0f6e-4893-beee-1f1f70a3cf77",
   "metadata": {},
   "outputs": [
    {
     "name": "stdout",
     "output_type": "stream",
     "text": [
      "f(x) = a*x**2 + b*x + 1\n",
      "f'(x) = 2*a*x + b\n"
     ]
    }
   ],
   "source": [
    "f = a*x**2 + b*x + 1\n",
    "f_prime = diff(f, x)\n",
    "print(\"f(x) =\", f)\n",
    "print(\"f'(x) =\", f_prime)"
   ]
  },
  {
   "cell_type": "code",
   "execution_count": 5,
   "id": "56baf3b4-ef96-492c-b63c-676d93ac8d03",
   "metadata": {},
   "outputs": [
    {
     "data": {
      "text/latex": [
       "$\\displaystyle a x^{2} + b x + 1$"
      ],
      "text/plain": [
       "a*x**2 + b*x + 1"
      ]
     },
     "metadata": {},
     "output_type": "display_data"
    },
    {
     "data": {
      "text/latex": [
       "$\\displaystyle 2 a x + b$"
      ],
      "text/plain": [
       "2*a*x + b"
      ]
     },
     "metadata": {},
     "output_type": "display_data"
    }
   ],
   "source": [
    "display(f,f_prime)"
   ]
  },
  {
   "cell_type": "markdown",
   "id": "383b7e5b-cd6e-4b94-9ec5-d53964713b0d",
   "metadata": {},
   "source": [
    "### Solve an equation symbolically"
   ]
  },
  {
   "cell_type": "code",
   "execution_count": 6,
   "id": "04c30f3e-9b3c-44ff-bc98-04ebf723568c",
   "metadata": {},
   "outputs": [
    {
     "name": "stdout",
     "output_type": "stream",
     "text": [
      "[(-b - sqrt(-4*a + b**2))/(2*a), (-b + sqrt(-4*a + b**2))/(2*a)]\n"
     ]
    }
   ],
   "source": [
    "eq = Eq(f, 0)\n",
    "solutions = solve(eq, x)\n",
    "print(solutions)"
   ]
  },
  {
   "cell_type": "markdown",
   "id": "1a188d46-1ca0-4102-99f9-ad4fe787fd2f",
   "metadata": {},
   "source": [
    "### Evaluate the symbolic solution numerically\n",
    "The subs() method replaces symbolic variables with numerical values, allowing you to test\n",
    "analytical results against computed values."
   ]
  },
  {
   "cell_type": "code",
   "execution_count": 9,
   "id": "acfc6e42-30b6-4f1a-98d9-cf33196f8eec",
   "metadata": {},
   "outputs": [
    {
     "name": "stdout",
     "output_type": "stream",
     "text": [
      "f(2) = -1.00000000000000\n"
     ]
    }
   ],
   "source": [
    "f_num = f.subs({a: 1.0, b: -3.0, x: 2.0})\n",
    "print(\"f(2) =\", f_num)"
   ]
  },
  {
   "cell_type": "code",
   "execution_count": null,
   "id": "9acbf063-72f0-4913-abc9-e03c069d1025",
   "metadata": {},
   "outputs": [],
   "source": []
  }
 ],
 "metadata": {
  "kernelspec": {
   "display_name": "Python (my_venv)",
   "language": "python",
   "name": "my_venv"
  },
  "language_info": {
   "codemirror_mode": {
    "name": "ipython",
    "version": 3
   },
   "file_extension": ".py",
   "mimetype": "text/x-python",
   "name": "python",
   "nbconvert_exporter": "python",
   "pygments_lexer": "ipython3",
   "version": "3.9.6"
  }
 },
 "nbformat": 4,
 "nbformat_minor": 5
}
