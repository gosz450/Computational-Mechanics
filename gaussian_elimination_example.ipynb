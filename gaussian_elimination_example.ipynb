{
 "cells": [
  {
   "cell_type": "markdown",
   "id": "a4d29c4b",
   "metadata": {},
   "source": [
    "# Worked Example: Gaussian Elimination"
   ]
  },
  {
   "cell_type": "markdown",
   "id": "0de501da",
   "metadata": {},
   "source": [
    "\n",
    "We apply **Gaussian elimination** to solve a system of linear equations of the form:\n",
    "\n",
    "\\[\n",
    "\\mathbf{A} \\mathbf{x} = \\mathbf{b}\n",
    "\\]\n",
    "\n",
    "where\n",
    "\n",
    "\\[\n",
    "\\mathbf{A} =\n",
    "\\begin{bmatrix}\n",
    "2 & 1 & -1 \\\\\n",
    "-3 & -1 & 2 \\\\\n",
    "-2 & 1 & 2\n",
    "\\end{bmatrix},\n",
    "\\quad\n",
    "\\mathbf{b} =\n",
    "\\begin{bmatrix}\n",
    "8 \\\\\n",
    "-11 \\\\\n",
    "-3\n",
    "\\end{bmatrix}\n",
    "\\]\n",
    "\n",
    "We will carry out forward elimination to reduce the system to upper triangular form, and then use back substitution to solve for \\( \\mathbf{x} \\).\n"
   ]
  },
  {
   "cell_type": "markdown",
   "id": "991bcede",
   "metadata": {},
   "source": [
    "## Python Implementation of Gaussian Elimination"
   ]
  },
  {
   "cell_type": "code",
   "execution_count": null,
   "id": "2dbb4d1e",
   "metadata": {},
   "outputs": [],
   "source": [
    "\n",
    "import numpy as np\n",
    "\n",
    "def gaussian_elimination(A, b):\n",
    "    A = A.astype(float)\n",
    "    b = b.astype(float)\n",
    "    n = len(b)\n",
    "\n",
    "    # Forward elimination\n",
    "    for i in range(n):\n",
    "        # Pivoting (if necessary)\n",
    "        if A[i, i] == 0:\n",
    "            for k in range(i + 1, n):\n",
    "                if A[k, i] != 0:\n",
    "                    A[[i, k]] = A[[k, i]]\n",
    "                    b[i], b[k] = b[k], b[i]\n",
    "                    break\n",
    "\n",
    "        for j in range(i + 1, n):\n",
    "            m = A[j, i] / A[i, i]\n",
    "            A[j, i:] = A[j, i:] - m * A[i, i:]\n",
    "            b[j] = b[j] - m * b[i]\n",
    "\n",
    "    # Back substitution\n",
    "    x = np.zeros(n)\n",
    "    for i in reversed(range(n)):\n",
    "        x[i] = (b[i] - np.dot(A[i, i+1:], x[i+1:])) / A[i, i]\n",
    "\n",
    "    return x\n"
   ]
  },
  {
   "cell_type": "markdown",
   "id": "cee424fa",
   "metadata": {},
   "source": [
    "## Applying the Method to the Example System"
   ]
  },
  {
   "cell_type": "code",
   "execution_count": null,
   "id": "2b9de131",
   "metadata": {},
   "outputs": [],
   "source": [
    "\n",
    "A = np.array([\n",
    "    [2, 1, -1],\n",
    "    [-3, -1, 2],\n",
    "    [-2, 1, 2]\n",
    "], dtype=float)\n",
    "\n",
    "b = np.array([8, -11, -3], dtype=float)\n",
    "\n",
    "x = gaussian_elimination(A, b)\n",
    "\n",
    "print(\"Solution vector x:\")\n",
    "print(x)\n"
   ]
  },
  {
   "cell_type": "markdown",
   "id": "8dc07b71",
   "metadata": {},
   "source": [
    "\n",
    "## Result\n",
    "\n",
    "The solution vector \\( \\mathbf{x} \\) satisfies \\( \\mathbf{A} \\mathbf{x} = \\mathbf{b} \\). In this case, the computed solution is:\n",
    "\n",
    "\\[\n",
    "\\mathbf{x} = \\begin{bmatrix} 2 \\\\ 3 \\\\ -1 \\end{bmatrix}\n",
    "\\]\n",
    "\n",
    "This confirms the accuracy of the method for solving systems using forward elimination and back substitution.\n"
   ]
  }
 ],
 "metadata": {},
 "nbformat": 4,
 "nbformat_minor": 5
}